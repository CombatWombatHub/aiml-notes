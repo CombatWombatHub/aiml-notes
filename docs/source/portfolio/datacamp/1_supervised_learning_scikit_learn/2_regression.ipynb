{
 "cells": [
  {
   "cell_type": "markdown",
   "id": "9610c687",
   "metadata": {},
   "source": [
    "# Intro to Regression\n",
    "- https://campus.datacamp.com/courses/supervised-learning-with-scikit-learn/regression-7f892f18-f9c3-4c6f-9570-f19ed117c967?ex=1\n",
    "- supervised learning like classification\n",
    "- target variable has continuous values (like country GDP or house price)"
   ]
  }
 ],
 "metadata": {
  "language_info": {
   "name": "python"
  }
 },
 "nbformat": 4,
 "nbformat_minor": 5
}
