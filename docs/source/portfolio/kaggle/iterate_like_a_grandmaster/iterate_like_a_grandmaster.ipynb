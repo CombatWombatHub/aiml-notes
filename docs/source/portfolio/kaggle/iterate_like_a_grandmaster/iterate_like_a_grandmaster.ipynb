{
 "cells": [
  {
   "cell_type": "markdown",
   "id": "cb5eb717",
   "metadata": {},
   "source": [
    "(kaggle-iterate-like-a-grandmaster)=\n",
    "# Iterate Like a Grandmaster\n",
    "- based on the Kaggle notebook [Iterate like a grandmaster!](https://www.kaggle.com/code/jhoward/iterate-like-a-grandmaster/)\n",
    "- should show how to tackle a Kaggle competition like the [U.S. Patent Phrase to Phrase Matching competition](https://www.kaggle.com/competitions/us-patent-phrase-to-phrase-matching/)\n",
    "- I explored that in competition in the notebook: {ref}`kaggle_getting_started_with_nlp`"
   ]
  }
 ],
 "metadata": {
  "language_info": {
   "name": "python"
  }
 },
 "nbformat": 4,
 "nbformat_minor": 5
}
