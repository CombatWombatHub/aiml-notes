{
 "cells": [
  {
   "cell_type": "markdown",
   "id": "9610c687",
   "metadata": {},
   "source": [
    "# Intro to Regression\n",
    "- https://campus.datacamp.com/courses/supervised-learning-with-scikit-learn/regression-7f892f18-f9c3-4c6f-9570-f19ed117c967?ex=1"
   ]
  }
 ],
 "metadata": {
  "language_info": {
   "name": "python"
  }
 },
 "nbformat": 4,
 "nbformat_minor": 5
}
