{
 "cells": [
  {
   "cell_type": "markdown",
   "id": "c47703f4",
   "metadata": {},
   "source": [
    "# Kaggle NLP Absolute Beginners\n",
    "- [Getting Started with NLP for Absolute Beginners](https://www.kaggle.com/code/jhoward/getting-started-with-nlp-for-absolute-beginners)"
   ]
  }
 ],
 "metadata": {
  "language_info": {
   "name": "python"
  }
 },
 "nbformat": 4,
 "nbformat_minor": 5
}
