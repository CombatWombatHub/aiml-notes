{
 "cells": [
  {
   "cell_type": "markdown",
   "id": "98ae69b1",
   "metadata": {},
   "source": [
    "# Supervised Learning with Scikit-Learn\n",
    "- first course on the track \"[Machine Learning Scientist in Python](https://app.datacamp.com/learn/career-tracks/machine-learning-scientist-with-python)\"\n",
    "- **Supervised Learning** - the values to be predicted are already known, goal is to predict values of previously unseen data\n",
    "\n",
    "## types\n",
    "- **Classification** - predict the label or category of an observations (is a transaction fraudulent or not)\n",
    "- **Regression** - predict continuous variables (cost of house based on size, bedrooms,...)\n",
    "\n",
    "## terminology\n",
    "- **features** - independent variables, predictor variables\n",
    "- **target variable** - dependent variable, response variable\n",
    "\n",
    "## prerequisites\n",
    "- data must not have missing values\n",
    "- must be numeric"
   ]
  }
 ],
 "metadata": {
  "language_info": {
   "name": "python"
  }
 },
 "nbformat": 4,
 "nbformat_minor": 5
}
